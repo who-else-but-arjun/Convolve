{
 "cells": [
  {
   "cell_type": "code",
   "execution_count": 1,
   "metadata": {},
   "outputs": [],
   "source": [
    "import pandas as pd\n",
    "from datetime import datetime\n",
    "from sklearn.preprocessing import LabelEncoder\n",
    "import warnings\n",
    "warnings.filterwarnings(\"ignore\", category=UserWarning)\n",
    "warnings.filterwarnings(\"ignore\", category=FutureWarning)"
   ]
  },
  {
   "cell_type": "code",
   "execution_count": 2,
   "metadata": {},
   "outputs": [],
   "source": [
    "df = pd.read_csv('train_action_history.csv')"
   ]
  },
  {
   "cell_type": "code",
   "execution_count": 3,
   "metadata": {},
   "outputs": [
    {
     "data": {
      "text/plain": [
       "customer_code           object\n",
       "Offer_id                object\n",
       "Offer_subid             object\n",
       "batch_id                 int64\n",
       "product_category        object\n",
       "product_sub_category    object\n",
       "send_timestamp          object\n",
       "open_timestamp          object\n",
       "dtype: object"
      ]
     },
     "execution_count": 3,
     "metadata": {},
     "output_type": "execute_result"
    }
   ],
   "source": [
    "df.dtypes"
   ]
  },
  {
   "cell_type": "code",
   "execution_count": 4,
   "metadata": {},
   "outputs": [
    {
     "data": {
      "text/html": [
       "<div>\n",
       "<style scoped>\n",
       "    .dataframe tbody tr th:only-of-type {\n",
       "        vertical-align: middle;\n",
       "    }\n",
       "\n",
       "    .dataframe tbody tr th {\n",
       "        vertical-align: top;\n",
       "    }\n",
       "\n",
       "    .dataframe thead th {\n",
       "        text-align: right;\n",
       "    }\n",
       "</style>\n",
       "<table border=\"1\" class=\"dataframe\">\n",
       "  <thead>\n",
       "    <tr style=\"text-align: right;\">\n",
       "      <th></th>\n",
       "      <th>customer_code</th>\n",
       "      <th>Offer_id</th>\n",
       "      <th>Offer_subid</th>\n",
       "      <th>batch_id</th>\n",
       "      <th>product_category</th>\n",
       "      <th>product_sub_category</th>\n",
       "      <th>send_timestamp</th>\n",
       "      <th>open_timestamp</th>\n",
       "    </tr>\n",
       "  </thead>\n",
       "  <tbody>\n",
       "    <tr>\n",
       "      <th>0</th>\n",
       "      <td>00199d3467a7191db5bfa4e5f9a62eeb96fb0b602c3ec5...</td>\n",
       "      <td>AC_100044882</td>\n",
       "      <td>VR_200098111</td>\n",
       "      <td>70000078</td>\n",
       "      <td>CC_ACQ_SECURED</td>\n",
       "      <td>SECURED_ACQ</td>\n",
       "      <td>2024-10-22T17:35:27.000Z</td>\n",
       "      <td>NaN</td>\n",
       "    </tr>\n",
       "    <tr>\n",
       "      <th>1</th>\n",
       "      <td>001f2abab1bccc25d00bba68fea57a81cab1c76d485515...</td>\n",
       "      <td>AC_100048426</td>\n",
       "      <td>VR_200108485</td>\n",
       "      <td>10000253</td>\n",
       "      <td>SIP / MF</td>\n",
       "      <td>ACQUISITION</td>\n",
       "      <td>2024-08-09T18:20:18.000Z</td>\n",
       "      <td>NaN</td>\n",
       "    </tr>\n",
       "    <tr>\n",
       "      <th>2</th>\n",
       "      <td>00298fc11fb6924004c041f141f92c3c74e209d9a737d9...</td>\n",
       "      <td>AC_100052603</td>\n",
       "      <td>VR_200127708</td>\n",
       "      <td>70000074</td>\n",
       "      <td>CC_INORGANIC</td>\n",
       "      <td>EMI</td>\n",
       "      <td>2024-09-20T10:45:20.000Z</td>\n",
       "      <td>2024-09-20T10:45:31.000Z</td>\n",
       "    </tr>\n",
       "    <tr>\n",
       "      <th>3</th>\n",
       "      <td>0038a46221c0175fc8938ebc8aef8d0f83b3ac1ad84662...</td>\n",
       "      <td>AC_100047006</td>\n",
       "      <td>VR_200105035</td>\n",
       "      <td>70000072</td>\n",
       "      <td>CC_ACQ_SECURED</td>\n",
       "      <td>SECURED_ACQ</td>\n",
       "      <td>2024-09-06T12:37:16.000Z</td>\n",
       "      <td>NaN</td>\n",
       "    </tr>\n",
       "    <tr>\n",
       "      <th>4</th>\n",
       "      <td>00409395a831af7fd41d0ec70a5be3bda13d64cb3e4be9...</td>\n",
       "      <td>AC_100046122</td>\n",
       "      <td>VR_200100845</td>\n",
       "      <td>10000246</td>\n",
       "      <td>RURAL</td>\n",
       "      <td>BALANCE BUILD UP</td>\n",
       "      <td>2024-06-23T11:03:13.000Z</td>\n",
       "      <td>NaN</td>\n",
       "    </tr>\n",
       "  </tbody>\n",
       "</table>\n",
       "</div>"
      ],
      "text/plain": [
       "                                       customer_code      Offer_id  \\\n",
       "0  00199d3467a7191db5bfa4e5f9a62eeb96fb0b602c3ec5...  AC_100044882   \n",
       "1  001f2abab1bccc25d00bba68fea57a81cab1c76d485515...  AC_100048426   \n",
       "2  00298fc11fb6924004c041f141f92c3c74e209d9a737d9...  AC_100052603   \n",
       "3  0038a46221c0175fc8938ebc8aef8d0f83b3ac1ad84662...  AC_100047006   \n",
       "4  00409395a831af7fd41d0ec70a5be3bda13d64cb3e4be9...  AC_100046122   \n",
       "\n",
       "    Offer_subid  batch_id product_category product_sub_category  \\\n",
       "0  VR_200098111  70000078   CC_ACQ_SECURED          SECURED_ACQ   \n",
       "1  VR_200108485  10000253         SIP / MF          ACQUISITION   \n",
       "2  VR_200127708  70000074     CC_INORGANIC                  EMI   \n",
       "3  VR_200105035  70000072   CC_ACQ_SECURED          SECURED_ACQ   \n",
       "4  VR_200100845  10000246            RURAL     BALANCE BUILD UP   \n",
       "\n",
       "             send_timestamp            open_timestamp  \n",
       "0  2024-10-22T17:35:27.000Z                       NaN  \n",
       "1  2024-08-09T18:20:18.000Z                       NaN  \n",
       "2  2024-09-20T10:45:20.000Z  2024-09-20T10:45:31.000Z  \n",
       "3  2024-09-06T12:37:16.000Z                       NaN  \n",
       "4  2024-06-23T11:03:13.000Z                       NaN  "
      ]
     },
     "execution_count": 4,
     "metadata": {},
     "output_type": "execute_result"
    }
   ],
   "source": [
    "df.head()"
   ]
  },
  {
   "cell_type": "code",
   "execution_count": 5,
   "metadata": {},
   "outputs": [],
   "source": [
    "time_slots = [\n",
    "    (9, 12), (12, 15), (15, 18), (18, 21)  \n",
    "]\n",
    "\n",
    "def get_time_slot(timestamp):\n",
    "    if pd.isnull(timestamp):\n",
    "        return None  \n",
    "    try:\n",
    "        dt = datetime.strptime(timestamp, '%Y-%m-%dT%H:%M:%S.%fZ')\n",
    "        weekday = dt.weekday()  \n",
    "        hour = dt.hour\n",
    "        for i, (start, end) in enumerate(time_slots):\n",
    "            if start <= hour < end:\n",
    "                day_slot = weekday * 4 + (i + 1) \n",
    "                return day_slot\n",
    "        return None\n",
    "    except Exception:\n",
    "        return None\n",
    "\n",
    "df = df.dropna(subset=['send_timestamp'])\n",
    "df['send_timestamp'] = df['send_timestamp'].apply(get_time_slot)\n",
    "df['send_timestamp'].fillna(df['send_timestamp'].mode()[0], inplace=True)\n",
    "df['send_timestamp'] = df['send_timestamp'].astype('int64')\n",
    "df['open_timestamp'] = df['open_timestamp'].apply(get_time_slot)\n",
    "df['open_timestamp'].fillna(0, inplace=True)\n",
    "df['open_timestamp'] = df['open_timestamp'].astype('int64')\n",
    "df = df.rename(columns={'customer_code': 'CUSTOMER_CODE'})"
   ]
  },
  {
   "cell_type": "code",
   "execution_count": 6,
   "metadata": {},
   "outputs": [],
   "source": [
    "df = df.drop(columns=['batch_id'])"
   ]
  },
  {
   "cell_type": "code",
   "execution_count": 7,
   "metadata": {},
   "outputs": [],
   "source": [
    "exclude_columns = ['CUSTOMER_CODE']\n",
    "object_columns = [col for col in df.select_dtypes(include=['object']).columns if col not in exclude_columns]\n",
    "label_encoders = {}\n",
    "for col in object_columns:\n",
    "    le = LabelEncoder()\n",
    "    df[col] = le.fit_transform(df[col])\n",
    "    label_encoders[col] = le "
   ]
  },
  {
   "cell_type": "code",
   "execution_count": 8,
   "metadata": {},
   "outputs": [
    {
     "data": {
      "text/plain": [
       "CUSTOMER_CODE           0\n",
       "Offer_id                0\n",
       "Offer_subid             0\n",
       "product_category        0\n",
       "product_sub_category    0\n",
       "send_timestamp          0\n",
       "open_timestamp          0\n",
       "dtype: int64"
      ]
     },
     "execution_count": 8,
     "metadata": {},
     "output_type": "execute_result"
    }
   ],
   "source": [
    "df.isna().sum()"
   ]
  },
  {
   "cell_type": "code",
   "execution_count": 9,
   "metadata": {},
   "outputs": [
    {
     "data": {
      "text/html": [
       "<div>\n",
       "<style scoped>\n",
       "    .dataframe tbody tr th:only-of-type {\n",
       "        vertical-align: middle;\n",
       "    }\n",
       "\n",
       "    .dataframe tbody tr th {\n",
       "        vertical-align: top;\n",
       "    }\n",
       "\n",
       "    .dataframe thead th {\n",
       "        text-align: right;\n",
       "    }\n",
       "</style>\n",
       "<table border=\"1\" class=\"dataframe\">\n",
       "  <thead>\n",
       "    <tr style=\"text-align: right;\">\n",
       "      <th></th>\n",
       "      <th>CUSTOMER_CODE</th>\n",
       "      <th>Offer_id</th>\n",
       "      <th>Offer_subid</th>\n",
       "      <th>product_category</th>\n",
       "      <th>product_sub_category</th>\n",
       "      <th>send_timestamp</th>\n",
       "      <th>open_timestamp</th>\n",
       "    </tr>\n",
       "  </thead>\n",
       "  <tbody>\n",
       "    <tr>\n",
       "      <th>0</th>\n",
       "      <td>00199d3467a7191db5bfa4e5f9a62eeb96fb0b602c3ec5...</td>\n",
       "      <td>72</td>\n",
       "      <td>246</td>\n",
       "      <td>1</td>\n",
       "      <td>64</td>\n",
       "      <td>7</td>\n",
       "      <td>0</td>\n",
       "    </tr>\n",
       "    <tr>\n",
       "      <th>1</th>\n",
       "      <td>001f2abab1bccc25d00bba68fea57a81cab1c76d485515...</td>\n",
       "      <td>193</td>\n",
       "      <td>437</td>\n",
       "      <td>26</td>\n",
       "      <td>4</td>\n",
       "      <td>20</td>\n",
       "      <td>0</td>\n",
       "    </tr>\n",
       "    <tr>\n",
       "      <th>2</th>\n",
       "      <td>00298fc11fb6924004c041f141f92c3c74e209d9a737d9...</td>\n",
       "      <td>644</td>\n",
       "      <td>1716</td>\n",
       "      <td>4</td>\n",
       "      <td>30</td>\n",
       "      <td>17</td>\n",
       "      <td>17</td>\n",
       "    </tr>\n",
       "    <tr>\n",
       "      <th>3</th>\n",
       "      <td>0038a46221c0175fc8938ebc8aef8d0f83b3ac1ad84662...</td>\n",
       "      <td>153</td>\n",
       "      <td>381</td>\n",
       "      <td>1</td>\n",
       "      <td>64</td>\n",
       "      <td>18</td>\n",
       "      <td>0</td>\n",
       "    </tr>\n",
       "    <tr>\n",
       "      <th>4</th>\n",
       "      <td>00409395a831af7fd41d0ec70a5be3bda13d64cb3e4be9...</td>\n",
       "      <td>103</td>\n",
       "      <td>281</td>\n",
       "      <td>24</td>\n",
       "      <td>8</td>\n",
       "      <td>25</td>\n",
       "      <td>0</td>\n",
       "    </tr>\n",
       "  </tbody>\n",
       "</table>\n",
       "</div>"
      ],
      "text/plain": [
       "                                       CUSTOMER_CODE  Offer_id  Offer_subid  \\\n",
       "0  00199d3467a7191db5bfa4e5f9a62eeb96fb0b602c3ec5...        72          246   \n",
       "1  001f2abab1bccc25d00bba68fea57a81cab1c76d485515...       193          437   \n",
       "2  00298fc11fb6924004c041f141f92c3c74e209d9a737d9...       644         1716   \n",
       "3  0038a46221c0175fc8938ebc8aef8d0f83b3ac1ad84662...       153          381   \n",
       "4  00409395a831af7fd41d0ec70a5be3bda13d64cb3e4be9...       103          281   \n",
       "\n",
       "   product_category  product_sub_category  send_timestamp  open_timestamp  \n",
       "0                 1                    64               7               0  \n",
       "1                26                     4              20               0  \n",
       "2                 4                    30              17              17  \n",
       "3                 1                    64              18               0  \n",
       "4                24                     8              25               0  "
      ]
     },
     "execution_count": 9,
     "metadata": {},
     "output_type": "execute_result"
    }
   ],
   "source": [
    "df.head()"
   ]
  },
  {
   "cell_type": "code",
   "execution_count": 10,
   "metadata": {},
   "outputs": [],
   "source": [
    "df.to_csv('HISTORY.csv', index=False)"
   ]
  }
 ],
 "metadata": {
  "kernelspec": {
   "display_name": "base",
   "language": "python",
   "name": "python3"
  },
  "language_info": {
   "codemirror_mode": {
    "name": "ipython",
    "version": 3
   },
   "file_extension": ".py",
   "mimetype": "text/x-python",
   "name": "python",
   "nbconvert_exporter": "python",
   "pygments_lexer": "ipython3",
   "version": "3.12.7"
  }
 },
 "nbformat": 4,
 "nbformat_minor": 2
}
