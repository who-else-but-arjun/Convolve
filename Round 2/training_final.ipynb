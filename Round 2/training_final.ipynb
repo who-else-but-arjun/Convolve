{
 "cells": [
  {
   "cell_type": "code",
   "execution_count": 26,
   "metadata": {},
   "outputs": [],
   "source": [
    "import pandas as pd\n",
    "import numpy as np\n",
    "from sklearn.model_selection import train_test_split\n",
    "from sklearn.ensemble import RandomForestClassifier\n",
    "from sklearn.multioutput import MultiOutputClassifier\n",
    "from sklearn.metrics import precision_score\n",
    "import joblib"
   ]
  },
  {
   "cell_type": "code",
   "execution_count": 27,
   "metadata": {},
   "outputs": [],
   "source": [
    "\n",
    "class EmailTimingPredictor:\n",
    "    def __init__(self):\n",
    "        self.customer_features = None\n",
    "        self.email_history = None\n",
    "        self.model = None\n",
    "        self.customer_codes = None\n",
    "        \n",
    "    def load_data(self, customer_csv_path, history_csv_path):\n",
    "        self.customer_features = pd.read_csv(customer_csv_path, low_memory=False)\n",
    "        self.email_history = pd.read_csv(history_csv_path, low_memory=False)\n",
    "        \n",
    "    def prepare_training_data(self):\n",
    "        email_agg = self.email_history.groupby('CUSTOMER_CODE').agg({\n",
    "            'send_timestamp': lambda x: x.tolist(),\n",
    "            'open_timestamp': lambda x: x.tolist()\n",
    "        }).reset_index()\n",
    "        target_columns = [f'timeslot_{i}' for i in range(28)]\n",
    "        def create_target_vector(opened_slots):\n",
    "            target = [0] * 28\n",
    "            if opened_slots and len(opened_slots) > 0:\n",
    "                for slot in opened_slots:\n",
    "                    if 0 <= slot < 28:\n",
    "                        target[slot] = 1\n",
    "            return target\n",
    "        email_agg['target'] = email_agg['open_timestamp'].apply(create_target_vector)\n",
    "        merged_data = self.customer_features.copy()\n",
    "        \n",
    "        merged_data = merged_data.merge(\n",
    "            email_agg[['CUSTOMER_CODE', 'target']], \n",
    "            on='CUSTOMER_CODE', \n",
    "            how='left'\n",
    "        )\n",
    "        # target_mode = email_agg['target'].mode().iloc[0] if not email_agg['target'].mode().empty else [0] * 28\n",
    "        merged_data['target'] = merged_data['target'].fillna(str([0] * 28))\n",
    "        merged_data['target'] = merged_data['target'].apply(\n",
    "            lambda x: eval(x) if isinstance(x, str) else x\n",
    "        )\n",
    "        \n",
    "        self.customer_codes = merged_data['CUSTOMER_CODE']\n",
    "        X = merged_data.drop(['CUSTOMER_CODE', 'target'], axis=1)\n",
    "        y = pd.DataFrame(merged_data['target'].tolist(), columns=target_columns)\n",
    "        \n",
    "        return X, y\n",
    "    \n",
    "    def train_model(self, X, y):\n",
    "        X_train, X_test, y_train, y_test = train_test_split(\n",
    "            X, y, test_size=0.2, random_state=42\n",
    "        )\n",
    "        base_classifier = RandomForestClassifier(\n",
    "            n_estimators=300, \n",
    "            max_depth=20,\n",
    "            min_samples_split=5,\n",
    "            n_jobs=-1,\n",
    "            random_state=42\n",
    "        )\n",
    "        self.model = MultiOutputClassifier(base_classifier)\n",
    "        self.model.fit(X_train, y_train)\n",
    "        y_pred = self.model.predict(X_test)\n",
    "        precisions = [precision_score(y_test.iloc[:, i], y_pred[:, i]) \n",
    "                      for i in range(28)]\n",
    "        \n",
    "        for i, precision in enumerate(precisions):\n",
    "            print(f\"Timeslot {i} Precision: {precision:.4f}\")\n",
    "        \n",
    "    def predict_best_timeslots(self, X):\n",
    "        if self.model is None:\n",
    "            raise ValueError(\"Model not trained. Call train_model first.\")\n",
    "        predictions = self.model.predict_proba(X)\n",
    "        \n",
    "        rankings = []\n",
    "        for row_pred in zip(*predictions):\n",
    "            time_slot_probs = [pred[0] for pred in row_pred]\n",
    "            sorted_timeslots = sorted(\n",
    "                range(28), \n",
    "                key=lambda i: time_slot_probs[i], \n",
    "                reverse=True\n",
    "            )\n",
    "            \n",
    "            ranked_slots = [f'slot_{slot+1}' for slot in sorted_timeslots]\n",
    "            rankings.append(ranked_slots)\n",
    "        \n",
    "        return rankings\n",
    "    \n",
    "    def create_submission(self, X, test_customers_path='Test/test_customers.csv'):\n",
    "        rankings = self.predict_best_timeslots(X)\n",
    "        submission_df = pd.DataFrame({\n",
    "            'customer_code': self.customer_codes,\n",
    "            'predicted_slots_order': rankings\n",
    "        })\n",
    "        customer_id_df = pd.read_csv(test_customers_path)\n",
    "        customer_ids = customer_id_df['CUSTOMER_CODE'].tolist()\n",
    "        missing_ids = set(customer_ids) - set(submission_df['customer_code'])\n",
    "        if missing_ids:\n",
    "            print(f\"Warning: The following customer IDs are missing from the submission data: {missing_ids}\")\n",
    "        filtered_submission_df = submission_df[submission_df['customer_code'].isin(customer_ids)]\n",
    "        filtered_submission_df = filtered_submission_df.set_index('customer_code').reindex(customer_ids).reset_index()\n",
    "        filtered_submission_df.to_csv('submission.csv', index=False)\n",
    "        return filtered_submission_df\n",
    "\n",
    "    \n",
    "    def save_model(self, filepath='email_timing_model.joblib'):\n",
    "        save_data = {\n",
    "            'model': self.model,\n",
    "            'scaler': self.scaler,\n",
    "            'customer_codes': self.customer_codes\n",
    "        }\n",
    "        joblib.dump(save_data, filepath)\n",
    "        print(f\"Model saved to {filepath}\")\n",
    "    \n",
    "    def load_model(self, filepath='email_timing_model.joblib'):\n",
    "        saved_data = joblib.load(filepath)\n",
    "        self.model = saved_data['model']\n",
    "        self.scaler = saved_data['scaler']\n",
    "        self.customer_codes = saved_data['customer_codes']\n",
    "        print(f\"Model loaded from {filepath}\")\n",
    "    \n",
    "    def fine_tune(self, new_X, new_y):\n",
    "        for i, estimator in enumerate(self.model.estimators_):\n",
    "            estimator.fit(new_X, new_y.iloc[:, i])"
   ]
  },
  {
   "cell_type": "code",
   "execution_count": 28,
   "metadata": {},
   "outputs": [],
   "source": [
    "predictor = EmailTimingPredictor()"
   ]
  },
  {
   "cell_type": "code",
   "execution_count": 29,
   "metadata": {},
   "outputs": [],
   "source": [
    "predictor.load_data('CDNA.csv', 'HISTORY.csv')\n",
    "X, y = predictor.prepare_training_data()"
   ]
  },
  {
   "cell_type": "code",
   "execution_count": 30,
   "metadata": {},
   "outputs": [
    {
     "name": "stdout",
     "output_type": "stream",
     "text": [
      "(220699, 110)\n"
     ]
    }
   ],
   "source": [
    "print(X.shape)"
   ]
  },
  {
   "cell_type": "code",
   "execution_count": 31,
   "metadata": {},
   "outputs": [
    {
     "name": "stdout",
     "output_type": "stream",
     "text": [
      "Timeslot 0 Precision: 0.9820\n",
      "Timeslot 1 Precision: 0.5166\n",
      "Timeslot 2 Precision: 0.5560\n",
      "Timeslot 3 Precision: 0.5802\n",
      "Timeslot 4 Precision: 0.5455\n",
      "Timeslot 5 Precision: 0.5611\n",
      "Timeslot 6 Precision: 0.5893\n",
      "Timeslot 7 Precision: 0.5945\n",
      "Timeslot 8 Precision: 0.4118\n",
      "Timeslot 9 Precision: 0.4375\n",
      "Timeslot 10 Precision: 0.6111\n",
      "Timeslot 11 Precision: 0.5989\n",
      "Timeslot 12 Precision: 0.3846\n",
      "Timeslot 13 Precision: 0.5972\n",
      "Timeslot 14 Precision: 0.5587\n",
      "Timeslot 15 Precision: 0.5989\n",
      "Timeslot 16 Precision: 0.4583\n",
      "Timeslot 17 Precision: 0.5968\n",
      "Timeslot 18 Precision: 0.5960\n",
      "Timeslot 19 Precision: 0.5944\n",
      "Timeslot 20 Precision: 0.4318\n",
      "Timeslot 21 Precision: 0.6037\n",
      "Timeslot 22 Precision: 0.5689\n",
      "Timeslot 23 Precision: 0.6278\n",
      "Timeslot 24 Precision: 0.5333\n",
      "Timeslot 25 Precision: 0.5435\n",
      "Timeslot 26 Precision: 0.5822\n",
      "Timeslot 27 Precision: 0.5992\n",
      "Model saved to doraemon.joblib\n"
     ]
    }
   ],
   "source": [
    "predictor.train_model(X, y)\n",
    "predictor.save_model('doraemon.joblib')"
   ]
  },
  {
   "cell_type": "code",
   "execution_count": 32,
   "metadata": {},
   "outputs": [
    {
     "name": "stdout",
     "output_type": "stream",
     "text": [
      "Model loaded from doraemon.joblib\n"
     ]
    }
   ],
   "source": [
    "predictor.load_model('doraemon.joblib')"
   ]
  },
  {
   "cell_type": "code",
   "execution_count": 33,
   "metadata": {},
   "outputs": [],
   "source": [
    "predictor.load_data('TEST_CDNA.csv', 'TEST_HISTORY.csv')\n",
    "test_X, test_y = predictor.prepare_training_data()"
   ]
  },
  {
   "cell_type": "code",
   "execution_count": 34,
   "metadata": {},
   "outputs": [
    {
     "name": "stdout",
     "output_type": "stream",
     "text": [
      "(68450, 110)\n"
     ]
    }
   ],
   "source": [
    "print(test_X.shape)"
   ]
  },
  {
   "cell_type": "code",
   "execution_count": 35,
   "metadata": {},
   "outputs": [
    {
     "name": "stdout",
     "output_type": "stream",
     "text": [
      "Model saved to doraemon_sinchan.joblib\n"
     ]
    }
   ],
   "source": [
    "predictor.fine_tune(test_X, test_y)\n",
    "predictor.save_model('doraemon_sinchan.joblib')"
   ]
  },
  {
   "cell_type": "code",
   "execution_count": 36,
   "metadata": {},
   "outputs": [],
   "source": [
    "rankings = predictor.predict_best_timeslots(test_X)"
   ]
  },
  {
   "cell_type": "code",
   "execution_count": 37,
   "metadata": {},
   "outputs": [
    {
     "name": "stdout",
     "output_type": "stream",
     "text": [
      "68450\n"
     ]
    }
   ],
   "source": [
    "print(len(rankings))"
   ]
  },
  {
   "cell_type": "code",
   "execution_count": 38,
   "metadata": {},
   "outputs": [
    {
     "name": "stdout",
     "output_type": "stream",
     "text": [
      "Warning: The following customer IDs are missing from the submission data: {'4cbac030920644cf37f5d0a2b92d0720a624b4b9d899d1ba470e9638934859a2', '000d0ccda7aa0a7a3b8aa411fa05f15839d91a8b24fd60fc89213aded689ea24', '5a03624a99a61f4ecfc30c8011fdb4d635916e1e8def9fba97ddd10462bd6daf', 'c90f9a6706d36a9910296a1f90b16eab12768e19514dd8982c19b282423363ff', '381cb93721254f3106edbe9b19969245015f3e3fcb39be612bb7808e99f99f50', 'e3784cfdd925d9be1430d5eb902eb3554896678cd0a3485c1a198d4203ce85dc', '287cdc417a1fc9f11e0bc5c722c70233ef882725627c3612f6c608a1e02f5c25', '4896a838d3d54fffe1f5f600a064e0551b16642df381a2047eb4ca0daafbcdd3', '245708506c2b442ca7512880fa662f3bf6cb8a9ded21739af39854b827028b9a', '36f9750a34c0480e5c08c5c324cb2a240f347dde3ad5097c6501e9bd2924ada2', 'fb682383257e6f7c767d2010a9db9eb9a9db83e72bc230c290bbd0c5dc0c0049', 'c4625f966f6e6c09891da8b672d24440cf50e8fe03cdbccb713e3b2a5fdb880e', '9d21436eeddbfb2d850c1009fe7d6017e8d50f253d33c077c11ec1f36ac695de', 'd5b5eb17cf11062f1247ac06f6edc9687eff2a926d8553a5e45bd679b8797c11', 'aee8dc11d4c1fc97bcbec392377bfc3068073bb917208295b28b8f1cbfd5bcb2', '79253a500cd464dc300b928bc09d57bc6a1bb9352ceb38d92f54e5752d0e0598', '66ad9909442584fe6220cf1f16b6421fdad4e894a104cf21755f49dccde65edd', '5bb30012664fec2dac7ccd26bebc605cd82b97b946e4224241425831ee249053', '5d7c1d97645afa5676abdc820b11db9bf70eabd25cf65583f96face74c110b74', 'aa0b7dd4b675744d48bd3fac4126eb290193bb55b5ec5c5514d9f18a0126e3fe', '31086f5050c3e34b9fdb0a4061874e4435b83badd0d1654e3b6c9d7077f1d603', 'f92eb79b7619231a757723e8f99a87d0d680301ee75f9637e60e970b2e9532b1', '370c170a9d898803c1220335cf150925a5373073041c44028d64296aca5e8cf6', '725d05112958727ae6baf0a2bed60aba61d95c629380732cd76a3b6f963e6ab1', '9b5c9aa5670cdf10155ea7f7938042f83159e00d596daa50f03c3b8f5728db0e', '1d7db2c0bcb22fa20a59344263990ff8e6896c01eccfab27abf45774a33522b7', '2fd4817bc092aa5aa5236ffd1c13ec78ae9399bb83ac631fbe570d85beb54b25', '9aa992304987604efa83745cadecbe81fb1b8812f823562d6a79c8dd3cb99119', '8ce092d4344a63bf56cf507ec7a83accca4161d20bc3e192ab4ce9d9cb2ad1df', '1e8d1df6df13cf1f36dc740bf1e06b7e8bbd8f3bf989ece0fcbfd46607c90509', '8c1673572960405d25122aa259338f764a3f55558b389b5b28ad7ba75d7ea9e7', 'a8fd1e7d0288a3092788b07f5a722ce5d85ef095766b0be24afbb69db8169c2a', '4f912a305be1d25044927ab0a67606726daae979c43623e011595d1ded961d9c', 'ccd17be53ecc29415ce67a76ce131ac16c1b1b04b3e2cd3b0d17e5dbc8ba17bd', '033e3fb142ebaee81bb249e1483ea25b0f9e76cb4b35365187eea4301bfe1cdc', 'e22450a8187c53c08643f68ecc2a2d581203fbe011d0955412eeac52db2ecd04', 'ca2ff254df96fc29a4fa313c99f75eac27bf0701f27a9b7d02f2229d127fcbff', 'f49d401a22efb4a3d563fed15593fe62f4fc10954919f6f250609868d551612e', '516381f78b3d24a85055d720995280cd5389f706f5af50acead1a650a9734316', '5c317adb4ac6b57d59328c170a3899640984d742260b2824339b4a36317cc702', '504d161b95afeb04ea2eeb4fa747799303a0ba3c418db2793f60d2750f83d799', 'ac46ea0ae4610433cfd1554248c567b4821fd85848d5129ad171b25ae7de0230', '133c0b1aae3b037b746a9dbd19f2faa10b9a7f055d24cd9244375cfabe49be1b', 'daf5b4be345bc228f2723c401cb14fc2d3ab0871cf4ff4aacd2598ecbfb7eef2', 'ac0b97228e31cb3dbfaee94f1dd19ac87ac73da55a6a7d28618432be872913e9', 'fac583856391aec6ea312e2d9a3485c070a0d7842af1436a82750f78c76b74da', '14bdc6ab38ab76258c2f7e78ef1fe48efea319ff054c55b109043896e695fadd', '11eb8fc7dfb8ac6de98ce8fd8b151fdf5a36ca5855c5bd1ec902dfd5343e71c4', 'fa80d59dc2e6fb7d1e59461f4308ac098cbfb96db088d20ad844560ee5750a6d', '14b6de9d4645852ba88aa29be92f6d223889bbd058a1d2f726ce6b0c76dbbabb', 'f60b0cd75d4a24f6250f328511b1e5f1c9f1b84de3d68b888eff630e3e7789c6', '9a212ff03ba2a883c2f99ca13d7534b76a0ef518445d6b3f95614928abf036c3', 'd073ff28701fc789b722d9ced4fa58d2852d22c6db7450b70d159e97f271844c', '1dea679c87e1d851a20cf519e5fd5a84511acec0ba15f61f5b38ccf494edce7d', 'bf6da00a44eb4b2dff98c835505efe45e38b8ac14d1a50abff16510f3c57f26e', '1ef995f8a9ed543ad37efcd9a195cf4ae08418a9e3c2c98c9786533110f3c747', 'a9347a7b3ab236fb46472824c963fe2526855f1eedc98fefe9959025260cc8c0', '295bb3c7c1fee6e19ddfbf0bd41c0249d74aed6ea28c1634c7677b5c4ba431d0', 'c715b33a272340cd0fac2e2ea60f096171161f3e2d3136af3922e0719692114c', '4bf6f8afb81b406ac870fe06fc14f53087014ba496a22909400a8f010d5a65f6', 'c11d4063d18e43d18f76d22d1cdf2e7d44579f93344031c542ddc644e7fd513b', '3847658b4f9baace615c1e4b7f7eb22f12481f6b3b2cc720bc625caada9255ce', 'e92843f6428f976ce914b241d5ce9a5f6cb7c7a6c8dd8eb6882067d4ebfa7d01', '3b2f5d6721c5970b95de33c2409ca86c455b3a49a380b9a5cb664ce5394f286f', '89150946604c3c96f487123d860cd0170578536cf482f000e67ede793de22e53', 'ff9013c6c25aea4baf4a4d0703f5aca83fb50f729024e5c3893a071820217b00', 'ac726cc82ac23c8e01e37735d179dc638667a2550c495d503b72a1d78de15c2b', '08eee1945b9fe01412dc558e45904ff6b2c1e8cb2a7e046e2b830b4b1cc87af5', 'c7e63f1f714e9b197444905385efc889ee378b690e3fc616995337d822efb4fe', 'b1fd2b7cdb1fb3ecc1d231731867a0c1f2ff558b9cdee17bc0d61efcc6e76f95', 'f1568588c4fe2af8407ee51ea69c2e98fe61af1e3db056e8fe37016b044fbea9', '729303a3d9ec7246464ef5c3a6e42c05b44251260fb9f13b0f9a97728b944b16', '3c543d429f932ad610ca3a1279671611979f9ac8d83e585027f8ee1b4ff581b4', 'b285dc7fa48f3a94c467c25e04a9f2eb8df5f6317cefbbe46b22892f0861c437', '11da1e39eed90f1768e6246e5d005ade1a947c4b84fbde61f95c58650c464ce4', 'e3752e948f39bdae87848d90677f73119adf48e03faa0d852d7f8ad2c57e1d66', '1f7e766d15936872588c7b0c0daeb7b4260c0e32947ca054f95985813fc28bc6', '62613dc1bec0aa4ded31846d0b9fa381c1ee4a21e1df7fd0df8d79f3ccc786e0', '06f050e9c0844948b8198c34c24360956f55598d3e44dfc370b16a97da83d496', '94b16dd5de66be84c61e45ef925d7887741d70c87160562ed206e17bc9bb047a', '21366c3cff33d0af5d0803ccf7bc079ebbb289c35453f800590841b880786ee9', '973e08d438193489f23e13f5ed01ffed48bb610acf72a4217b8f930e0b9a392b', '2a1e198156fd713717e64e61bac1eba57b00ad64338ae7c34fd9b8fe246c73a1', '83f8f997bd725f5f3d81188eabe91d6238272a2628976057613a2c92a2a8334f', 'cd14316b30b2f10b6d07bf19bd18f5699f2bc87dbf3bfca67fd16e726a2576e5', '83a63b59aaf10a262e62fec4f512521a0da32b1b64cef502463ecbc77635f3c3', 'ca8fa645094fc0b24bd0f1eb62ddc17fa3e204af65d6b1f15cea32c7856d8a27', '945131ea0055a3e5bf31ec5cb560a4b7abf2595009d0457072dc0c15d1cf2be0', '543e69fae5b9cae188a846f91591a54aae4fa2fc3333202e061d5656ea3d0c5a', '42a25252714403022435915c7e26f4aa3add08ca48fbdd3ce854aad7a75d8edb', 'c0ceb0496ad2b652eada759c0b37dfe4b37b7c74f7ebedfb567c3c07a67a7cea', 'fcea3f5a2bb0524e2ef0972cbd810949416c7ca20db15eb598b26b8247a989db', 'b38d16637cb055f3ce1b62c3979419f43878abeb3a656eb38c1b3a750ccdd7ce', '8527c809974b339c0c23f49cd3e3dd64486d02139ae1abd5d0f5c54e63dfcdd9', 'd09e578b1a74ffd598545c7d90d9ba1e0ab743ab75e543060ffb452c2b0dfec7', '1c82902f73aa44531b5d3e8b9f1eb0487295ca550b2b99866c37b729a3893098', 'e60a409d6dc5d9768a03529a471f5b4111f61a488374dc37063b6879c4c28ffc', 'de4ce0f092602fb86377718fd72277d6b563992059491d86c1fb78ffae8d45bd', '5e8a5dae381a439d815a8fd39525772d0fb562ef7d125e1cf669f42f3e50e5b1', '5dc30eb60c117a7baa366e55015bf6319c1bd9f6a5e563931303ee9a731081c1', 'cca43cc5b7b5ea318f8b1c9aa9a59da3016794397bef5ae77e647c178efb90aa', 'c5d3c9e2588dfea88135bd6bcf0796b03e720048f413320f89dd62c781d5f2eb', 'ac759046a670aeba0afce4c8f8ba77dbfbe091b46d0791c9df28a72c4ddbfa0b', '8d110298161d06abb8e22df1663d3be76fd1792effc12c86e50f412c50a0e39a', '9ed4ffe2c70b1eeeffd5c5be869d3be2d70637d0010f10fd2127b78cc5882f00', '74574d56d71434fdc9194e875fa9dbe5d3e6378ccfdc48907b105fbb62ffa975', '8e3564b3f44f4c87d69ae907c7d1d7d460ac5c5f7f7ccd9b2ff0d99024869c62', '1bcda4e98ca944bfe7f956097897bd41cd74bbdcc47d53b87a29505f05c180bd', 'd10c3849b53a88d69b530f5719d986eaad809463a3ee97e402a6d8cea08e3259', '1f43f1e016c953f42e1c958dd04d17b032a5c0c555237c1f3211defd8a5158ff', 'd976ead1a8f592651ad56569658ec81c273ffb3815629de81b4b9ade52d60920', '9e9770c4d35fa282a9efc52e56ef7a8ab7713efc11a6304c29b68bc1fb73f562', '6a084b0fac12955e43b433952be08b423f063aa9878c5f093cd13c8ac8d19371', '0b24f8fd88d08c4065129728210a8ab11996a32737294b3166a7ed8ef5632c38', '643e7f78e6ad019dd96877cfed0dbda8cbadb9fc2179d3b1d27f93e021566697', '5581f7b7ef0babda58bbf4a9b20683b9f5a1fc0dd644970c66cc1a2dea263bab', 'b6307f02e4e05e58007ae8662f9104006c096d7355e1c808cc8fb3923498c9f4', 'b00cac1b68742cac435dcaf88b5fc18a52d0cef8b38678cc75357f93eca4712c', '57f7293e2d8169489a5acb95adf59b887881e80f8426cb56b5de374be79bf041', '9b52a98b7dbe7376e62d33bc2917c1dc2150ee6f31a69054c967a1f8bc2a9459', '39fe83a5d2a911f2435f414179674e05f333e4557cb5d5065490948d2c041955', 'e1389c03472ccbc2e7fbc4dbbb776fdd648dd0b582266d9acc4ab12b8a4b5c9b', '88a4f98e9d3e7de87a3cec89272f345c997bdd4d7ee832dd3e5ab7e2a7ec95aa', '51ed0dc880b6ed8c2df61b8c197ac5f922454a73709f6e0b61582fb26d3711cb', '8f20bd8c97bc276d28ef09209c7567d33747c3f1d292d6f3bf7fd257eb3deb19', '4fa3d0a02cd73e71d28cf05e6a6806bb9f42a766f5b1313a8137cc1af3aface6', '50b38bfb82a6bc2f1370cde1737bbffdd1f134aae52cc41a7844ecb8ccce5765', '65462e4d275e158f0b0f6936d0cacfe3d03b25e57c02262afe5971dc1e9b505f', 'e610703572e68df6f7e722b44f65fa4450201d71e330f58f8ae40fd7a4af13d4', '9b527a0707937b80a4f19efde7f86fa2738fd9cd0cfc28c764cff8367176d11b', 'aeca47fa97bd5387687dc3721efe61bd0ede67af72c912eb4fafc249fb3c5a86', '20f7ab8d2836d7ec85a7289911da5c4e75b3baeb6e88185522d7e724eed64083', 'db448f0859e5d01ecef287489ae078d3ef8e88d207a8e31334355e990cdb728d', 'b15f29bcadc5882f04baaccb89ab9c997a06d1bd61175d3bcf5d2c209cc28ed5', 'ec7546863edb975f252fd2703000ea96c474b70b7afe475cc9b63f6f61a79375', 'a7761f9c1dcbe6ea3ad74a6827ebe832293e484bef879a5b9cb73e0b29106e42', '9a0a3d84d7be6e365b634d45d5cb3896014a95fc8f7658d48c345cc33cdc5ebf', '8f820d31feee3c0f56fee568681bdeb74d0022f828e7172ab0f73465f09d46e8', '49c7df14c89aeb2a541d40bee6855caa3b2b3589e6811553fad97a822de1050a', '4fab76a725c69c2bb93a3bbb1200807ea9e5096bc5ad7ad901e23f9e0a086235', 'f52bdb22c012694a72ea7332762e2e8c66e3c01175668ddadba41f4b46aa1a75', '0f63e30232767d857ab3b2a3fa6c2408543b780749bdbb81678a7a1d8675bf04', '4d559437944b9912979b278420c09ab0ec05e53e38b0537c6b63ee60f3f1bb97', '2d032168badc1360fb022ff55fb9ba9d1eff28a862133a0e9cb01c2c5bbf0732', '6fae8b30c6799e785990c1e14a99dcf836d6a1e4120dfc7aa80361e8a1f1e642', 'e09cef5954656ce036003ee868cb5827ac090dfe5d8fd79d0afda0a35a37aeda', 'cff40a7ccef67b3057109c8effc1e41738aac360a134063d6a978e23405c6d6b', 'fc651ece969e7e98f55fa30864ad3b2a781191ad008e111d64ef5bab8c75d903', 'c4127e90cc1c02587cb7a326ba5e99e11f5ddefb0e7a784cad46613d1fc76256', 'ee297ccd59cc7c949c2777e1a1ba68f258d0f923f8e0cf669ee90d25736fbf30', '0489db18fb0eb266be6595e332a988921c282c760cc769c9823f12101a847bbe', 'ebc83596ab8482b40f5ad19195fdd0401aa02206103e6e0a73d868ac1de53bf7', 'e151845d7b8a58698e58f76c6c288083edacf6b995dfdf00527dfdc97aa23c93', 'b668bbaa4af42f78928cddc610d81ea416abf426ccb4315c291a26aa04860f00', '764a6ff1493ad5f644b57f669fa7a5e92331ba8a2bcc625194825a262486710e', 'a602a1a66a94a564ed4e35ffa6f094c872b74c627e6ee6e597a95d9f64b46805', '70d55b87e93307511cfec576fd0856537099edecd2aa026a817e2698cb1a8730', '638bc1d81447f0dd85439555b21f8f53ba96b0f4da39f8128655f317375764f5', '25d9a9506155814c86f26f314c0eb6f14a8a772a8bdc0075b90e96d1b7831477', 'bd29a34bf11e11d69e05f4b1ea86fe2abf111e1edffe63784d02e8b71693e3f1', '5e1a3d2a5de0f95bb6d52b81b161b9408813bafb460033ac99a0e7ebef10c93c', 'f46d23aff89b7a3ce8e1ea4ad21671b86afdb0ecb6d124d0166ed879a52dd1d3', '85f3a2a495f52e07abda78252c4e3ba7849ba671ba5ad8c568cf50f6920ed8e1', 'c0e4f33b73033b6b8d37830add315d565836aa4b55429599e9fdb45e2cb4b73d', '832075c5da8cd8fee43046ae662e1448a12a626d5aa7dee55f743e3fb453b307', 'e2db7bcb8460752728911f795425816b2764b9a3fddad03da4e782ad2b23587d', 'caa5644a2825d91df04b566743bca2972478a19125fa6bbdf254468fd2246da1', '005e628ff49782605b639b6162a598b975f16aa3b9ddf932115867edb4ef9209', '207accf4a2cea88dbee36fcb767ebc23bd1c675ec2516131bcb1e3c44db20b88', '1190c9b759587de2976b2f19059e1aad3b806d808046f721fed600fd93b2042c', 'f5233634bb05786a0f44fa526234ea288db8480fe2756344fef2fedda95c121d', 'a38a8099287c1e168eeabc4fc467d0e874ea8baf6fcf6e810cc8b416b087e013', '6b8d3b74f22c2c4dbd3bec47da42b530f9abad4abf71b550eac7adb8c7699542', '49d769f9ccf1052a6d578fc1a3b426377b6ce71f7a77d3a417ea1a726b29df56', 'd65a94995c690ceaa0c75d01f40d54e6122a50e4e477bce3e6aeb05a3942991e', '87f68f5aacc16c88b6e67665cc54fad054e964d3d7008533b488667c2dddda62', '9b87fb2ba99b1b315c29668740018cb9e6a7283c03b36e8828bf9f9e8bbcbdc0', '96df5475b31163f44cf8ba540019878d3f07d47cb0970539dc59f9a2b63f445d', '81ef4a19ba0eb99aea5053589f0eb1ba7da1e2051c383806685ddb9b838d6b3d', '5fb01ac399cf3b18adc28b83207272590df7a9644761af43d1cab4552a3286ac', '6b2347e9af826d115ce0f0474d59f94351c7979bece5edbc65c433a85c9b019d', 'a362fdbf1174f99bd8517147657bd8bdf5c9ba34f6fc07f291f521825094b9f4', 'c6584c3fa03976acc9171ec9ef550e85fa07d7cb13196437d760bf589596050d', '929b188d5c4539f56ae3f577e500ae42330975e75356bc8c2e225bf2c38b268c', 'f23db934752e5fae63a4aa28ed0709bf1e477636aef6de0dbfb185dcb1ad1cfc', '47a2a972e45b50050bcb76a0f2ec3a0bec9aa0394f3870a457bc1c65f20251c7', '26b654bf3a259e41b5b2ebfc86b4a485aa1f03fa48ed2b9e4578315a1bfe94db', 'ee0a1de0149a466cb11fedf08b18b045dc0e6346a57e209b76dedb582b722c7b', '79763063209ec7c361e43925959e1a01a4fb43f146387e3a4e3f52468cea8137', 'f9a93fbf4f9244aa5c8d9b3012e15ba24fec887f913f1ac5e214c6e560887358', '421e9328b86242a0b0802e100dc4311a71bec387eb2675d9e74c77b53d7e9a8d', 'c914d5a267e1d5f00abf2b37272d663be71e29a40b40bcec12a502b02781e0f0', 'cb5caeeca22ec578b65b708dc3347e55f354d0cc70e56d6fbfc045d516f49480', '7217293809e645dbae5c6ebe6f4e6e2998876b9bfb535b49b2f2b3bff7745ccf', '6b4f70e977898e33e89c71b495bd6a3e3827f2eae366e29a9c933ac5a50afd75', '65463248bd798a7e011a3f00eb998bf160e2cc319239bfece95f7c063eac6e5a', 'fac018b4d7d8e869b16a7ead0f1e02fb1f282846ce83b782ff73c45e19ff6d0f', 'e96eda44e164d5ffee3727ecf5294a1d60919151a9e15bf658900147ac8d0bbc', 'ec36e7a9467c5ba68198ad0982ccd7d59b6279ce55d8fa0f0d52a51ebf526a26', '9700e5be4f761e44ebe2373c2dfddd3909a961084099ab66e66d046cc2ba349d', 'ee858ccbb0920c9e7c04ddda27933d64844b5ad2575b12ac4e3ddf70a6d12fa3', 'cc0bd0e4d5bdc4aa475953e17a09d9f3320ae3e69d39846fc6293a0f4388fc15', '101223daf4b6ac4f2b8bfcab98f3fecd5b4eefb251ef6547ba7e481dfcdccf1f', '51083b88c29cd4e5d21bee828aac3ffe514aa8cb3ed27d94b20930b02e1113cd', '04277c82e2e40e16a00b2566bc216cab56de9d6be8a4b1dffbfe195fa5c3f7e4', '8d1a5e9de8bd6012f1412cb8d0282a68d2eafb70af108022e2c9bfdc319826f5', 'a94622613541f0f474604c845f77dc79ee9bbb55b2013e949fae8da8d884a3d6', '6d93be0330b08a89273a9141d1c8e08d1ff684fbc2f73dff8efbfb18bf95ccb9', '2b1b02cc7698357fb3261be92231084222bbc0ec828a8dd2b18a4924364ba984', 'd6201c0d640c3f92e0e65c6a8f279b9a76b0440f8dd9707823f2d976b4aa13be', 'f9f182004d716288949172d4565b32afec13b69f8c8bd99b71f6caf27b243da1', '68dbba9c5c360e404054f31bc5be2b8ca107a0c43b063ea02730241348cc3f76', '21543aff20580c35de6ed57bf4b7a8800823aa7fbf1bd8260dfd23eaea5ef13a', '21c88943ad9db6053b31e963c6771fdc9cda33c9666011d3811539d2b20475b1', 'e10576f07654da891696fcb898ad9a79f487e564ce551f9336de3f23507ac866', 'fcbccd268e3497db7ad3f9981d91dafa2afdf56e553075931e4fad657e8c6b6a', '5ed05a614e97d0969ac26da1d6d93bb8ca9e83f812507657bbe0019a1be3f6e2', 'e535ffda69e9cf0ba196624789b4a91a491786ca896044f369ff7bf237f7840d', '648eec3e2d9c2f0e4305eb9777554824c4deea49bfca1c8aaaf541648440b4c7', 'aa679862df20a9b1e2ce64ffb5e793370b52dd6cc127bf7f0309063cbc1f2325', '3f0a181c00939cc4d9e0b9b9662a607739d98850a36b3ec98563d8d9f27eb09a', '4d331c3958db8e8aebe54af35bc1d5ce2bd9e12c35d30d94365534e44b8d9b36', 'afc908f62d59532d6abc132d74d72eca4dca9e3a35fa402ed6729cb6bb972ae7', '4b897b880a9866bb16bb4ebc6d7cecaaf0d1a5648057c50f0645ca020c5e8e59', '47b7586c6f4dc96587e419e4f19a7588df1d49d470b88f4a9146d6cfc7dcbba6', 'c8d65407616dbb619a3b85f615d78f3e75ee8de45460eed6915411f16eac35ea', 'bb02bd25c803f20969c0a7a02dbde9205836f93423201caa43f0c8ad362330d2', 'db51753504ea357a4e6fff94de1f2ffcd68c7bf074cd2a39beeaf19ff00b3c4d', '8a2cc8b89ca73f3676685c61cb77f71961d61370ccccad956eb36ef1834acb40', 'da2dec185e9e4ab62adc750b740bcf2e43edcd863a7481c085d6aad05abdacea', '2cd7096cc51ac1921ccc25fc4f3378e6cf31836b654e3c5d9dc94cbe5c4e32e9', 'cbf2e490fc6c53d037b4d5b0714cec4dc1b1da04e478c89a1492c1e22c194351', '8a5720b793bc8c5e71aec30344f360d8c5148c5fc4f33783a0b857046cc71573', 'c40d81fd916a1dad1311faca8b1bdad2f2db12bf8a4c80fcc2f654d277481ebf', '0ac883d56673d6551dc873fcaa023844859ab406c2377b7424ba06491427fa2a', '23861cd953669216f76a7e13d9860818afaaa4d57c72f44321dc85ec64e9660c', 'bb4566e555c73b66449d72087c415a83d8a8c1fa4bb8ad49edbbd49b55d6c496', '6293412fb79393683b6c765fafa5e294f36076672bc9a6fccbf76a2ed4b2e46e', '6ff65cd0c0be22cb4db33a8e2ce23543ff89ba9a1c5c456d37a31d1d8a0d0916', 'c4d8deca6a2a5998872789e4fe472c3b5bcd0875926f1063134c019e4138c348', '33d07bbd2c56a39872c6f00a6edd2418f10689384b36312eb6bb137a5a859b78', '0155c79670c5b063a8027766112601924ccf7978e89b0fb72b18b58417e0e348', 'fa3f97e87a9518a33053994e343f4f01fa11bca7190f6785543b0c14650e8ee3', 'f8453b48dce39d3ba02cc22bd50681871081375479760d8b126418845b8783b7', '820b8847abd6bca572bacd1281a3100e16a3ea0f8f889a6f48336b7400bd91bd', 'c587875726d4cf09a6a7c79f1786eb7e436a891092a2bfaa79368fb215027e4a', '0c7ce3d0160649a10501ec749d86458e90951f9062cc70a03006d67eb41029c4', '96dd2c22d0d852d53f1b311c20693792ea64607f2ec0a82d906153e76d7c2313', 'c5014c8eef882401d1e1d83cc8696b9572992d20b8d4e2ceda16dda324c20701', 'e678621288af7fe2d83d921b75e3fa99cc7cf310a67ff9100b210ec9c6140924', 'd5896700725c7f10e6c391f59c08ba8eded95c304fc6de44b5c7b3e5201fb0bc', 'db07e0f26d5d07136c781e36550b9f8ddf3de04cc53750b789ab95d0951a1a72', '7fc3c74048a2d8d696409cbf1e09dace6f7811cb9700050d53a0db3473a52780', '7a69878317af0800df1dcd1cf3e3a9daf8a0bd4889b083627219a6a7053a9508', '8506ffba3b9dab3a33519e0a49bfd1a135a5b6143cbd497d794a90dcba103675', '831c9f26876ab8223413ef98bb0b2767a15b45a2516e3c5747690d59f62ffe8e', '34b0c69c6a47a91d5f2b0551858ac35db8d874c03ea934a688ab5e20c0b6f28a', 'd0f202dceac9bf5536cb1100bb2e6b1e1ef561669e9669957d85bb06de7c70ab', 'beb0e6835f50d6871f7cd7bfc4d91630db2d9519f9b3c759f2065b025d9334a5', '31aaed318420eec524eca11f9ffc7e3be40a5bd234d3c876aebd54f38008029b', '423a9d2eec16292753d4e039c8824de3ba0aee3e6ab7fe981d1fbcdb9b3f5a70', '7d2184981b411ff56af092a7c3c0c14fb52f7d033025e2965475a497f50582fb', '46628ab72785888f93e2341aa5ac8d0883c91f1d77b48826cd279e36b116a1dc', 'd5376a879a0b0319a919ad456f7eaa499f578a125fd251c8882c13bc28550689', '16c93862da6aa8e7462df8ed4fc63f4fcfa21d0c4a2d4cd947755c171ffddfd2', '875e96b6a9468b6c980868da42587884b8794715e7613854c10e53f6cca826cf', '8626ff368a3318ec1429424085a7c0a905abe1b5f916fffd9a187425de8fbd1d', 'b9bbb7f9b72822c81210119a136f264a6b86b0d8372fd8b60017639dd0db68b5', '894dc2fac3b446fc17ab00298a908b6842385a748b554e2653801db08b2e75a5', 'c9d06eddd1c2244534f0012b4b5996c468c18e3b44c41dc8d7cc1eff2b994149', 'd9dfe92ebab7ef1af1a32d0907d6d202e00dc0ed7a07eb4029aec461593f100d', '2958ea4de3634404e19e29b4e505233061c88f8859aa2e9ba6deb99a1d41c4d2', '73b24dae0c9f9679da8aa89d54dd57441c605258a66b97a13b6aefc013c0fdbc', '5714d8829f11419c7cec4f3cfb74fd7dee29b00190bb0e110275c49ee7316c33', 'fd66cd71f33b46ee15da1a693528496ace6685cf220ad58ac5098873bfbdedca', '31db24d828f225d0dd884d264b8f4f3a01599bc36c1d8d88970e7deef9a05d99', 'aff5d5bfaf61000b584e0695bc2392156668e50963b1b9a06783ccfeaa84a393', '215496073d7d0db519df3de3cd019993171bfac3685f2b21aa70a319ca634996', '1dc7a672c01bd9c033a3930a571867aac41d358d529c5021309978b7c8731a00', '00ab8f18b3f8cd1255cf55c39fbb06ef8e7a5c4ce2cc8f24392a96c36074421f', '420d37afbbd27ab01da9a3415c44421b27cb45e8229aeaaa208eb6cda5f332bd', '4e3cc7aae7bf8f237cf3a0b1775cc3de5d5cb610702340bff860dfe2e056e409', '65712d26d0e7e80f4dd9d55a4df3556ab2927e8c567470ff2e6d864ff45b7b92', '3de30b2b99df204452faa8873fe76d153d86329992ee325bc26711174f33dc3f', '711ce9f8263db1679b1131e44fa5b93dc477cd55d62545a94bf449c80836bbd0', 'a84002949c9d251d895f047cf356a594ab3c412694151f824c71fe4178024977', '9df5e3837b80922a53c8f46be41e79fbabf657ed287972a8000edd8089146d45', 'dacc048425cdbbe58928e987b45204103753b0454be1ede6358ecaa899079f8f', '923fc76f48f9a72d0dcdcf3fb8baab3280006fbbd7cb1bb665a703e6b25feef6', 'c1222b9fbc52394c404a06af2ac265dcd612cb80765b052124298a60b0e35921', 'f5817812151637af921babe1cf25a478dcc1a659ee3c2ad3f10a14603afd83fd', 'faf24f834b2edf3808ffbf6316b98701c07614853439e480104fec875c3cc0ca', 'c8eaf4c4c41ea977437b46fcf53145b987b18021c655deffce4e26e113d7b88f', 'cbaa3cf058e4af02a5445a109346523cd7e124c1e8d517f7f6e6b2c1cc3ad6cc', '7e9dac7d93489b97cc68a279aedcaaf10b210bb2ab3c71337a48e966b0025a13', '1cd01c6188196fdbddc9f05c2a6a5e01da7ecc7aa55b1bf7ccddcb409f65cea3', '7a46ae75085a0f4c7ba156d14087da3dbeff2d43adf0fb9f117077f3cbd00518', '7b3758f19ba73f30dfc87585dbcd9bf14295ea559a72c2108c7d90dbb8654e04', 'ff6eff04d175477b4fb7a7352c36521b73a7d1833e36745dfe409163cbf2269f', 'e917060cfb3002828088ba41ecba90806772408b355ae97ebeca6db4d21cfcaf', 'fabe62fe4c3ab00f1d2c5436bc3026b4a67dccd7abac413b07dc7684c86ac77a', '39112e68f3e77746c8e8b06965d7920f92a7b9f2ad5bc31f7ab5e9c7cfc8e34c', '130df8be72cbfa7a853f607d76a2280fd02c5f7ae72bbc00a8677488029061f4', '088b378700d51ffeebc08facd520d91918dcc2a380608d2f1db0fe0d62a59609', '33813c9aded3a903f04ebbf547bdf7039e19f0a199bb762d41f00d1b37968e41', '169e82071698ab59cd4479b9c612b0d89781aaa0d3db13b790c0b088ae9f52b6', '334a5e6a23497900872d5568398df2446e637c79b47386190fb2f1f0a98755f2', '224a4211602db4e8c1e5711a4510e2a8910c380d318b457df033e6c6bff287b9', '834f78e89987fd77b8a820575b52756ad1c9e2af2b311736a31ed9745421d453', '1ba1b2b67d1ad33225e5d6d1417a8caab52cbf9c5060e8eaf16093c0ba15408b', '7eabe157606891aa65e2a906cf4c8811d33ae4cb5ff264930099b12aaf3d400b', '8b0b389c0c8e4886a85e346f1430dc1b65a60b882a3201ebe6b2c3d2054f79aa', '3facc98bb4023d93e0394522e3d5d16204298fe977f8258646edd0946f46551b', 'a4d8d0f3eba157db78d39342aff6a9959dffd6dd282e9efe80f8d52be0c4a292', 'a683f3a7073b7fc412738ec6dd427a4e84ef697998f7603d4b336d5af41b4563', 'aecdc9309bbab5a33e2c89c21d56c42a2a7c7e8506279789c0f8b8dd016a25e6', 'af556cc2dd839ba644919344fb484b7df95477de03dc285bbe9fb2111ad71406', '7a6a56a37b5fd9c31de55bc44c1002817f626b5a2436d2ea54a65ea0d9e842e4', '515700b3798ae062b66194036e1d1b02ae7d7dab1ae865bce503da0abe3f9cfb', '038cb1fe3f2d9312e249d5a578760af84664a86457957e339c18112d929af588', '65ebdd46a9785d2f166bc826970178965e11b82de1234523052c33a1b93cff56', 'c88277168b84b7f561d5d3954040c06882f7feb8c8d12589d14b915abf8c6cb9', '56db21bbfb378d97c8eb34bb0bd123f96265a410524974f22e3866d0c5bc0e3d', 'b970a2505e5bfdbdc7b71a5d8a0b65b0a2d04b961583459f0d38cc859b688570', '694ac3ba4c975d358e85fed78f36e99c94c271636ec8334071e8213e11d5ce73', 'dcc632083a33e233de733f420d15bf6e7db74c1ae8e0663ec68492867a35c64c', '00446586e390a001d5edc75b85b94bf4dfba676e27a4d8600d84322307304d80', '558b94bc22c6a8c0f81d615b47baa4cadd26ccd34c643a3d61aa8e23407c429c', '4b782e616886d7abfbb0d7022840aab9949f339120ff220df905eddfd3f4cb69', '6c33fd280dfc7acbdea8f97d3119ab28a50e8e15aab00407b28a9636a39caddf', '23e0d4bd304425ac058d5c53b3fc0eb67139bb01dc89474ec0c5afdffe4734f5', 'ecb08e9ad2d15421fee7c18b5d7bb94533ebcb46bae857cb812ee06b221acd33', '2dff70bb7d24059a4bf3d37a6de156a16108d8130c67358cb8032be96b6e8508', 'be041843f518d95508d65825b06cca745766b38e6a4b03f794bef55d5f5799d5', '8e385262061aad286971d5cf3eee932a7baa9042271b546b6570d6218bd9c8d3', '68a5bb3811f7724e2b244de8df1db35ea8da1f39b04c5ca7c96377d11345224e', '02221e7fa54217ef9fac8416223f23fea3f04a7904cbd0cf20ce70e7af6c82a5', '325e0f3d7c39a2107840e4436d19deb6f469e889335b4d11f860e557e0fc2efa', 'd37d3778ffbd14583817fb1404ec20a274ee5086d11c0d4f1dc84ab5003bf475', '705d23620483d324a82799cd87b25be761a3c5bb09d07c8563c38473da2a7070', 'e9aa8db351db32f7ef668acb636d23ad25f8d50cf5d341ca9b7548acc8750a04', '56fdb5d80469ea61388ca05277a064f20a089b819ce97336a6de46fbdc1af0b7', '2c6ec265b5855feb68c8dec7c46f0a4833fb152262403c62d5bd2953ff5992e8', '319d8b3158436908633fc8d1ce568c10147ba3ab05cc08c482a351e1885fe296', 'c3544972907ce12011094e900750f89b85563317a045567b5aebdc07267e9673', '432365d9a91273baabb296f01246f7e7cbe1ad46527943c3b2bcb6db654eff0f', 'ab16acd340344519db5ddc8f5a565f2a5398ca331ef909565827d60e07846b4e', '8881b4545eae3ccf925f6dc68d9375612ec2bdaae94f79f78ab302d4aa476ec4', '6f7a148cf3b53b3565917257d3870071a4d3f4e56061964c7d447908912c1f2c', '47661e9c032016a8d9cda342ff8ea2105e4ac2df662abd17968d99b834eb6e26', '563b5240b6178fd214138e19f509f1cc544ce9a90797753279e2f6cda3ba439c', '7f6ea10e1e467a2442326b4528fe2dbe61cc48196bae974a47c5f724e64fb004', '959beab3039fe6333489c9ef3ddd7cb374cb482ca432540a9586c789f866e469', '818412916e1fb9de8bca793bae1581a3da6ef23178b670e174a11d414ed91161', '0b2d5a84e6c5a3023da72c3489f61dacfc28943f4ed6041185f1d07dda116500', '33c45502f427995234e23d485940c01110069caf2d1ecd133943be45cd436f62', '98d2e3b096471fc0b42f20244b7deebfeb9dab56c2262e0f6c08fa056da082c2', '5aa5c0a54ec3bc280b88e43c3406acdd2a83bc8e10b6c51979ee6203237c2fb6', 'd91c5af4f90b4cf8555da262126a961190dd723e3a60b5a3cfcfd1c2de460c00', '1effce7fcc54c24d7aa2c54c26895093419abef903f4d0f73dd48ce9022add1a', 'c2aaba61962df3b5010b0644ba257954ccbc922a8e0bcb6eccae3eb516290ba4', '5da5b1ac20844f3715a1b0fbc92a8af7d17ba6f19575bae2661b1ef0478501ab', '9f657a449d4ec9128d6f35bf7b45e1da076ff63721148ba2cb69c7a9ac50f76a', '25402cd52be336d6eb096860f3e8e23f943847eb1c8d96be23aa6e404e236c4a', '5c4719b8aeaf31262074dc9cbf2d2ae769a80c6f5e85f0eac1a7f65e47606a44', '21920eedff1255ab22281951cce9b54db7d1d9948a4474b3a536652a4be09de2', '49fd6262c6d6e93f3951a9fa6bc766679f5eb655f87f625960d3b7bc3002c61f', 'eb3d5897f17fdce429870fcae4c14922a00047db07cf516e57aa82ec5caeb027', '05c0e3dc02bdf34170b86ba625c0fb8fa284dd59b91ef78fc5cf1ae72c1b0164', '3e77e388e542bd53ef48662eacc9b008d3426eda0b3d30cebc5766b0a11f4a1c', '4a6c0ce2d7b3b7841517d1c66b45e81d33f302cbf2b89c443554e60063fdfd0e', 'c257ada19994e2ed2aeb78bb67530ca8b624290b7e1870e745eee4b995d6bf82', 'a1f16a23361c73861f1630af0b295c992e70b2f4eb614805b3d2e943c1234f65', 'a7ab75faac3d4c5561207a8364d823482d355f8afcb3d07019d50b67039d4c23', '8c6f6cdb4bc7d195c1eb5e10827fef541033fb5f12c5d7575674c59e76777c68', '90dec6f74ea3486fd49dd534dd5da794955b441aa847dbf91b7b2f9fc23fd5e6', '415a8fbda118419c1ad6dc4baf6dc7759d8e6f45532c5575066fa6ca698b52c8', 'b390a725f88b0c06b07a1709c5bc1eeff4c9a76837e531d8e73dbcf739f14c2c', '4e1b086b9decfc717d3493c83a08d5bd6917583b3ed059e10b9dd9d41c766b68', '2f01c18e10376c191583db479f5aca10ac2f68e67b6ae74fe1ab8eda9b9793ed', '4124c76c451bad7a96457434127ab082c4e6204d5b26074417d14a4fbf632eec', 'a79ef8b8e4fbb5bbb2cb6639146c8a7aa2393045f7ce7de531ee1aa7e5684dc0', 'f7fbffa742f3b773d8a0df5da92464634c02f59b864f9caebbe706fa6cb0cac1', '7fe62d6023c3157255e96118336a8f9bc88a2c12cf44e66ef8b2325aac519e99', '5669c087e1c2e9d578142b66d6413e84ebdf910bb8561f71fd31a25b271bfe5b', 'cb9cdc44898ceb91c69ac2b81d1e4848ec23913132c54aa1c32b704e85d966ba', '01f98c98f8ec82d7d85e11fada901c63cdbac210d5d9e006e32230b4349cb206', '59b7d65da80e18ebb6ff39fa55959d6109a9d98a0d5702ab1d53ca79965fe16f', '234799109c73ea815c3c90a5422afe8fce2b7137a757505ad713127be817a7b2', '3d76916d6309269f28513921039cc3a0af35dae58dab610541ea3aea4c863b64', 'f394e572590d28f9c3716c6e5bad7fa907f047ff23f3f7edb17ac26db37a3cff', '576a7130819b33c4d1564468a3e792106094fb3c6c7c16123ab944a9bc0c04ca', '02272001367dd18c4039ca44015764bf6449167e8ff9b439257621139b0ab986', '097b2ce0ca4a4a95dd589859880c0f2031bca226487aa5e7c158a57d6e48559a', '51f26ef0d6b2caa14f8e9766cb752dbefaf5b046d7e7f7726379c871f951b382', 'efb4069ec9a73864085f480c8d77f5f630f19b862927d0d69f3d85704fd5d87c', '4605868f44248e0bfd0bdc02d434963e0c65960b74fee637cf81e97050a496cf', '1a9b0f4ee1346787ce1d36e4ca0e772e2dbb017b66ba948f230d25e759e3e461', '0496b224f1d1e8441151d696f9189383c6a5c6bf35defd6a3998c66c67d5b81a', '3ee37a4bf404512f8d95a9102ac8852f463cc3dca627d42ec9a5270458df6001', 'cc04c25bb1e705e17b85b4857cc34de67017b2e3ccbc2aef97c8213bac0648ea', 'b7a886dea0abdb5bfbfdeac0f34d82917e814b27349338b6cd0e60989349b4ae', '9d8bc4f038790680f9121baeb14c3e946fcb36d1d138b94a722ac63d879caafd', 'b32bc81df1e0de7acbd5009f603d108acd01157304606230be975709d9f45bf8', '57f119217719043000401ac06dcdd9544d6cf7ced0f5b2194233286363f2ea09', 'ae673be83e720a619d3d66265a0339d198744397c061c790d63bc6f269ba4af4', 'c07ffbf5a64a83669a79898aeecad85ec23af18696388b7bc51ff7c664f434f6', '8acc3e00a8ad4f7a63b8de92f5455416ab4e7d61e487829e5044cd229a6336f3', '42cf9ecbd6097e36c8bea6ec97e26c52c1bf4436be3522a20be62dc2871eb6df', '529549241156f9f51e9a83470796670eae3a92023a24d74a8bd950eaf5a16851', '13cbedd43917f7851ed5fe1892cec936168e660a3e77ac9df24504532af8c4e4', '91f8cb31145f160f8e94db27b7adcc7ad7b5db61cf00f48407422b12b5203057', '5b05d5b018e7c71b390cefe3875a582c2acd923b5ad72dd19e668de118863905', '2530d4379ecd092b4c9b576af8af2d9bbbd4acafb79d209469ae9a9fcf321605', '535ca7c5c49d3e0d4e016aa8e7ebb7d46578c9f78866315f07106eec2ba4f615', '7371d9ecf96152f7fcbd76354896f1466176f5c6139ec0e133a2522d113bde70', '63dcc834a7b8c2ebea438f29127442fef3a120c5d6d72db1d1a7c8249d76d86e', '33a58946eca2674ac45cc287c76111c484509865c66372cc169880634ec87151', 'c1a4c73aa9498eba46008997af1764f0d071862082ab34a17c9a2865389bd451', '4306078b1f4d7cb9cb03ed05a358fa1672c675566685e8c179d082b08ed99924', 'b2eb5bad6bdf02b589bf286d003de6595a3129719008c971e5892b10278518a9', '324796ac072c0ef44807bb4462e56898649c9f8188ba18930f529476b205f2bf', '6670e3e791ea76699ad6d9d8dbeaa99a6379e28c4d3e7070090ab412503b4496', '45ff9e7ac7212d6fee3fae4eecef97affdd7d0a891b51aec19f926e5d3e88b8d', '7e1ebb0a577d272b6a908f982dfc5f20b9c1f3f397bcf3d42c8ff9f9ae80abfe', 'e295d2aff07332c38d1d4655362f78ff91b2ff3306ac5b00bb2f76aaad40b410', '6f97367c4299e047e02f59f2c09014b9390051f6bfa02d6f7d54bdaa607af113', 'e300e37ba1ddd532add1fc6834b5a109078abf7921e34306aceeeb3ed3fbaf9b', 'a777707b760153e3939b325c6df9dc4c9568c8be558e5feb5a057ebd26557d2d', '2f3ec3f3122315cd1244d5fc4833c93cfdb92dba72ab13caa7ae7c5abcd8747a', '79d2fcbd2d268728bc2046185c96fb543813cd249be0b7797c62664afb7105b2', '84f09066fd377a99ca4c2c5924059ae12a20cc9521b124628d9dccc8f4f84819', 'bb5639a039df76f0888754abc3ac09e8a05c7e5ea105fd12c80c72ad01b5c2e2', '05b1f2b39d2d877e683a535a403eebc46f5bef7cb198128c2507dea6bbb1c292', '453e48b970e6efbe8da4844e802dfd6421a6de8aef696560db95dce0c910711f', '782c4677f8bd457b99a40e5e9081af61f6321b4c556ad9e5a4449ac30103171e', '2eb0b60d924814059a472827a55804fac72036f934ead0e19c9560893ce77a31', '28043361c6c387a6ee407e56f0d1be64cc4227f11d665aced2897c67092dc374', '857be965033dae170dd7d7737bd92582b6c13faa840bc652ff4f7d3692177603', '842bae8ededdc35daad9e510fc288a8696b782e49414b34b3bf2d88884301684', '9e11157a1a8b32265b0e94c527fd57df5abec72b90098a62469a967f6978163d', '4b295804eda9aef7fa7267c0bb3fd2bb37d483c66b1369231be1ea8693c8952d', '5ac1a608f8b53324fd8bb12eb8293f8dd1e81f8c864be7719913a0c299e50068', 'f9a16ca9a1dc024e5ca3f1513829ec9d11fcf6afeef04fdc90b0f94bb184cff0', '43f49d85a37a862017e411f77c98323484cb6e97570acfa336e23dfcea23b9f7', '117540e4980a72558cb773d0a45fcf78e478f716bb1ff68339823459876e183a', '9d13f1758c88dce22afeb3d671abfe4400afedd89b5cc682d997262dc07a176b', '20ade6b29ec292cba75ef278e146841090b72f39346ddbe6447d5cda36c00b5c', '3672d2c028493ffa3d874ee9a5bb67934052f06fcea9f790be7ec141d0bf55da', '092e3841dfd7eb8e357597ee92f23a6369e3bf16569b8f21e982c4fd7dfabbbe', 'ad99835e4f3e74496fc512b66955292fb840f89032c8cddb97dca1e1a2c483fa', '74b5b0336757e2e94e8f8ea3f0dd501821f0d82afcb652893be22f3bcfd93423', '36a13367b8c2b2be0e1a722eca0e3b4cd5f7cc2dc362afdb74942e04c1ddd2b9', '65d5519498714afee586a2864aa2145d8b383f2cff6d9f8b3d8691d98fc549f9', 'ee4c1cd0453a137d28f6a8c04f3074eadddb3a497f085f8d08e3fc36c8c841cb', '95b5209374ebf0e8d3494c4765a3baaf5d30ff6c77c203189bead1960fb35b2d', 'd2e30da2f74f9fddd7a28f1efd4cea276a8489241e286ae39c09e7c4a7ea6f38', '61afd4cd89c577e0a2169103e7fa896528aa025801df16ff7e4ff99cd77c063e', '63858e7be3be71ad5b3977c147629be77dabaa29b1159d9fe0b70049280c9976', '34992f2345118459520adcdf04f2bea1d142c8a586a02b2870121f90792d28d8', '95802a288f3f8b24c2fe0250328950d36eeebf5822a78c2ef40b1019f422d4d9', '4c22277105898c4e181aafb1871563d0eb8d6bd54a10be284ba013a7500de66a', 'ad7053a863048723db27afff880201e20c794fc65f0e472f938ca86dbeedc120', '5df7aca467bdeaaa14f5409c432817dbf865d3494237c4140969145de840acbe', 'd3eb859a0ae551c9f01ca6e7f93aee8b9c0978b9e26f300701b07ac9f4c76780', 'f187dda99e9e1b2eca1bd13c7b064aad6304844bf94b86c747b5dc3e21f73dee', '022517c06b69ce15cf225a212c86073885862b3cdb502acaddf50bf60f65d3c1', '00f39160fd19969f71632dd654693df0060f32ef378891256ebf306f33c9e046', 'dad349325ad5281ec6906fe8ac9271b7f0cbd5046df96e6f88888b5bead89824', 'daa6161f6d45e122e1a52f6efe2c97b5e0e42528c2469211df08db57e578fd2f', '5f69bbd693531f108fd51b0a73f3bfd021fa97818b5eb165be3827c2c0c2dda8', '2a0040ee22138f2670dcf8fe38ad19c95c02895845d95045399f369853995613', 'df204d170ba1a01341ef979ce073fa3c37c13363187544a0560d17b2b417032a', 'ff0d6c3ee6107fee930fe1eeb7120e4e72b6c94cc05dcd572e40e18abd478453', '1f9955df935dafbe52270dddf5090f010c173288579db97879673e1e2d4c4bbb', 'fb531e42d61fa68bdf0cf202e2b41ca334b65e4355364d93264183a8d99f741e', 'eab71f69a6e8d00bf03189d4bb620a59879e6268f1e1b257809bcefabb742642', '7019ca036cdc0587cc2f56df86833fa966e81132687df6005067428b4a58448e', '2d87c79916c3b92ed35bf1129e61faa1aff23862614d6c8d3baad7d9e4850375', 'f06325124de249416719f264823c2b3e52be119fe3bb82e93d8bccdf24e2368b', '27a7c1bc7e6d91b0cb10571afd22cf0035b8d1a1ac7602f143bc9ba7d35e2f91', '247b6aecfd5a4aa48f457ea7a52f758e6cc1a0fceed2656b9d3cf564be2459eb', '9334994416df0ddab16d449cc94815d0e68baf4c5691b72e61aa6ad1993a2948', 'f6f83876190b0d18f8c4a32119dd3c7d804dedaa0ddc28561fe4b0f3565df7c8', '6f97a7f131069f90f087479d98247e6d561ddd522254529b6b76177fb7c74738', '914ca730108f4ead70fe11a15c27f146ef0452fb8fc0b639b678396d8a55e66b', 'f6e064dd44f467fbcd2d0fb914c95ff0e62ea6fad063a87fbf4b793efce049f6', '4d85191fcae3b3828cb94c6c1223d05f3a2db911b70a93fcb5086aaf654b3850', 'e5c4b81fbeacbedc7cd95cd30c2c6663d1db7a22c7d438659c0fe5d815576669', '3309d6eb9982ebf35acd1ba95ce8e765fc8791b1d5a2144b78814a93cd2c9fc3', '0b6c76b470c7e46bbc474ec7b08b27279229d12f9a9d55ff73a5d7e597b7824b', '1b4a41da9dac9f5975ab3d00ae81f16d414e1f0071068ab99526aa12ea491968', '6d4c512c725b23fca2e27af9b2b0e47640deab5f8ad2f9760c4f897e226af12f', '808549cdc6811d12b92553ec67fe10acba0a6a83648d628593de142f91afd531', '67c2d4d1984308e2239672654c5abe449c7f4be9dbfcc74a762b521c84a032eb', 'baad34e50d965e8c01b66b2a89a161340d1782cfd62fdf8952f42fb6629be3cc', '6847be4e5ef59a5ac4d8165a88cbd12c342093835c40705c973d61d7b0ccc078', 'fc3e4223c53d27060ab17844f9714efdf5f5a29986d1fbc1c37aceff0fa266a9', '9c20362121c51df0529b12efac2b3a520cf510301a887235a5dd9631fe6c3ebe', '59f1d3389077545ad2aaaab916c8653a8b9c012ae79df00f1ee3109bdbbaf047', '1a05052c5bf2de2cef1ab51618d8bcf2bc3bd36f7cb2ca62ef16f9b72b4323bc', 'b635397534e1b9d3e0c95c6eab2717c7e9055f3445ccfb9a82afc813af755843', 'cb6d67c025b58955bbb13717d97e1ee04a50729ac42e45b01fe7880052141ab3', 'a66a1615f5de46bece8c3b53715d05d08dc968ae7a3de6517e4d1f3e47e47fa2', '8ae17e8c175ef8663765185773a9fbfe3232e331fee8c235a61b287e4cc363bf', '39ef11b2d3480777eb7f484fb9ce638b836d1e8563fb4857e6cc1ac8d8dae5c9', '3d699e6f12a917b76a224d7df244a16be93ea65966ecff6cca90e020dc34e74d', '8cf42b174a9fbc255db01a2d9dfe5faa470ee1bbbef59a647d3b00638c1bbcd8', '8e2f1129c01f363389c5bc28e7e327ccd7d34e85987b213ac80cd6b0faba1cd9', '0a5bff6312e8b1941bd6f2b50ebbdbc0a911193f535740fa3e099b11268323a0', '6bdb6dfa6deb0818149efec57aa3320549762da3c4b5e15db48a4f63de4ee015', '54d01f2ac4bc9aef0e7a009e2a3e8ff6a2356b869bc2e1f2b2f4fdf3636e8062', 'a04fb14834f691a7a8e3b2d13230c7c23d94d7e785a02ef271d9a816b0ae54ec', '8c3cd120e7fcdc68d824eb0db0a92c6917f1843f7e56f2b38ae9bfd0585acb2d', '0c20e364b9781def58158373a1d8f506ce1172a9970ad4cf95ba2f926ba6b95d', 'e06a26d090ea446f1ba7795e3750c8078605b5e825870460ece2845b52674ff2', '70409965430edac46bebaafeac207c6f89a4f3dfe7c3c244697b68cf0a725945', '70015f90f697f180e14f94d88d06eae67374e99a29b10e636eb5b077f26f8f56', '8e4c534d11943e1a42ae951e40cf4af528fd1497c98b7c0170a5eda795635296', '1eda8e5d4f4ff96719c2f1346c10258d940f8bbb555ebe65e816e2df08ad3e3d', '18de32a50d1b00e505a68e2baa64590eb0e7eaa0b76037997f32c5ab17362871', '206bca0f194cadcc69bf569cc6f054206c2d2eef68dad48d40d475a8d648ba4f', '7beeab99927f36af0dd6e405241c2907589e0b0e52d7b38b629022a2c5c315dd', '222c3a2d4eec13131ffa936f1514060cff1df626b0c293d1fde4b806d26997e0', '2fd21d66b491e6803942227111f8573146327d0e8c976edc7176094e23d963f3', 'add25a9a4d605179b52e8ce2c5cbc2dd3d8af5e869b549ce7a9f5831933a11dc'}\n",
      "Submission shape: (65708, 2)\n",
      "                                       customer_code  \\\n",
      "0  2cf9e9b31ca760b8772d8e136e85c640df36b491ba8be7...   \n",
      "1  34481740a44eae239d61c7c0526dc42dc221a94939a8c1...   \n",
      "2  bb5d102bb50fd308aee248d0fa5cdddbf1a29e263d8e2d...   \n",
      "3  8229cb51e7392dc37cac4fd94959699bca2c9424a8548c...   \n",
      "4  f812ad81bc6939bab1856476f12ee2ff8100b8308a3b1c...   \n",
      "\n",
      "                               predicted_slots_order  \n",
      "0  [slot_10, slot_27, slot_7, slot_14, slot_25, s...  \n",
      "1  [slot_9, slot_25, slot_22, slot_5, slot_18, sl...  \n",
      "2  [slot_18, slot_14, slot_10, slot_6, slot_21, s...  \n",
      "3  [slot_6, slot_5, slot_13, slot_21, slot_10, sl...  \n",
      "4  [slot_17, slot_26, slot_18, slot_12, slot_25, ...  \n"
     ]
    }
   ],
   "source": [
    "submission = predictor.create_submission(test_X)\n",
    "print(f\"Submission shape: {submission.shape}\")\n",
    "print(submission.head())"
   ]
  }
 ],
 "metadata": {
  "kernelspec": {
   "display_name": "base",
   "language": "python",
   "name": "python3"
  },
  "language_info": {
   "codemirror_mode": {
    "name": "ipython",
    "version": 3
   },
   "file_extension": ".py",
   "mimetype": "text/x-python",
   "name": "python",
   "nbconvert_exporter": "python",
   "pygments_lexer": "ipython3",
   "version": "3.12.7"
  }
 },
 "nbformat": 4,
 "nbformat_minor": 2
}
